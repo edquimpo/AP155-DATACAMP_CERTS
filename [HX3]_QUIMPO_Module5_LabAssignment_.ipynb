{
  "nbformat": 4,
  "nbformat_minor": 0,
  "metadata": {
    "colab": {
      "provenance": [],
      "include_colab_link": true
    },
    "kernelspec": {
      "name": "python3",
      "display_name": "Python 3"
    }
  },
  "cells": [
    {
      "cell_type": "markdown",
      "metadata": {
        "id": "view-in-github",
        "colab_type": "text"
      },
      "source": [
        "<a href=\"https://colab.research.google.com/github/edquimpo/AP155-DATACAMP_CERTS/blob/main/%5BHX3%5D_QUIMPO_Module5_LabAssignment_.ipynb\" target=\"_parent\"><img src=\"https://colab.research.google.com/assets/colab-badge.svg\" alt=\"Open In Colab\"/></a>"
      ]
    },
    {
      "cell_type": "markdown",
      "metadata": {
        "id": "G0BcK0H_G1Iu"
      },
      "source": [
        "# **AP155 Lab Assignment** \n",
        "## Module 6: Partial Differential Equations\n",
        "\n",
        "_Instructions_: Answer each problem as completely as you can. Discuss **all** your answers as clearly and concisely as possible. \n",
        "\n",
        "_Scoring Criteria_: 50% - *correctness of code*; 50% - *discussion of the code and results*. Maximum score is **100 points** (Problems 1 and 2 are worth 50 points each).\n",
        "\n",
        "_Due Date_: **5PM of December 21 (Tue)**\n"
      ]
    },
    {
      "cell_type": "markdown",
      "metadata": {
        "id": "PeHZ9kP8JaVR"
      },
      "source": [
        "### Student Information \n",
        "\n",
        "_Full Name (Last Name, First Name)_: Evanghelos D. Quimpo\\\n",
        "_Student No._: 2020-12067\\\n",
        "_Section_: HX-3"
      ]
    },
    {
      "cell_type": "markdown",
      "metadata": {
        "id": "Hc183co-J4eI"
      },
      "source": [
        "### Submission Information\n",
        "\n",
        "_Date and Time Submitted (most recent upload)_: 12/20/2022 (10:05 AM)\n",
        "\n",
        "**HONOR PLEDGE** I affirm that I have upheld the highest principles of honesty and integrity in my academic work and that this lab assignment is my own work.\n",
        "\n",
        "**Sign here with your full name:** Evanghelos D. Quimpo\n",
        "![download.png](data:image/png;base64,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)\n"
      ]
    },
    {
      "cell_type": "markdown",
      "metadata": {
        "id": "ZfImNZs6FgGA"
      },
      "source": [
        "### Grading Information (c/o Lab Instructor)\n",
        "\n",
        "TOTAL SCORE: **[]**/100\n",
        "\n",
        "Score breakdown:\n",
        "* Problem 1 - []/50\n",
        "* Problem 2 - []/50\n",
        "\n",
        "_Date and Time Scored (MM/DD/YYYY HH:MM AM/PM):_ "
      ]
    },
    {
      "cell_type": "markdown",
      "metadata": {
        "id": "LxWuqiCFMsEh"
      },
      "source": [
        "### PROBLEM 1 (50 pts.; 50/50 for code & discussion) \n",
        "**The Schrodinger equation and the Crank-Nicolson method**\n",
        "\n",
        "_Refer to Exercise 9.8 in the Newman text._ In this problem, you will use the Crank-Nicolson method to solve the full time-dependent Schrodinger equation and hence develop a picture of how a wavefunction evolves over time.\n",
        "\n",
        "Consider an electron (mass $M = 9.109 \\times 10^{-31}$ kg) in a box of length $L = 10^{-8}$ m. Suppose that at time $t = 0$ the wavefunction of the electron has the form\n",
        "\n",
        "$$ \\psi(x,0) = \\exp\\left[-\\frac{(x-x_0)^2}{2\\sigma^2}\\right]e^{i\\kappa x},$$\n",
        "where $x_0 = \\frac{L}{2}$, $\\sigma = 1 \\times 10^{-10}$ m, $\\kappa = 5 \\times 10^{10} {\\rm m}^{-1}$,  and $\\psi = 0$ on the walls at $x = 0$ and $x = L$."
      ]
    },
    {
      "cell_type": "markdown",
      "metadata": {
        "id": "VIkyCA1L2Vlt"
      },
      "source": [
        "1. Perform a single step of the Crank-Nicolson method for this electron, calculating the vector $\\psi(t)$ of values of the wavefunction, given the initial wavefunction above and using $N = 1000$ spatial slices with $a = L/N$. Your program will have to perform the following steps. First, given the vector $\\psi(0)$ at $t = 0$, you will have to multiply by the matrix $\\bf{B}$ to get a vector $\\bf{v} = \\bf{B}\\psi$. Because of the tridiagonal form of $\\bf{B}$, this is fairly simple. The $i$th component of $\\bf{v}$ is given by\n",
        "$$ v_i = b_1\\psi_i + b_2(\\psi_{i+1} + \\psi_{i-1}).$$\n",
        "\n",
        "   You will also have to choose a value for the time-step $h$. A reasonable choice is $h = 10^{-18}$ s. *(15 pts.)*\n",
        "\n",
        "2. Second you will have to solve the linear system ${\\bf Ax}= {\\bf v}$ for $\\bf{x}$, which gives you the new value of $\\psi$. You could do this using a standard linear equation solver like the function $\\tt solve$ in numpy's $\\tt linalg$. *(10 pts.)*\n",
        "\n",
        "3. Once you have the code in place to perform a single step of the calculation, extend your program to perform repeated steps and hence solve for $\\psi$ at a sequence of times a separation $h$ apart. Note that the matrix $\\bf A$ is independent of time, so it doesn't change from one step to another. You can set up the matrix just once and then keep on reusing it for every step. *(15 pts.)*\n",
        "\n",
        "4. Make an animation of the solution by displaying the real part of the wavefunction at each time-step. You can use the function rate from the package visual to ensure a smooth frame-rate for your animation-- see Section 3.5 on page 117 of the Newman text. \n",
        "\n",
        "   Run your animation for a while and describe what you see. Write a few sentences explaining in physics terms what is going on in the system. *(10 pts.)*"
      ]
    },
    {
      "cell_type": "markdown",
      "source": [
        "1. First, we import the banded.py code from Neumann, which will be very useful later."
      ],
      "metadata": {
        "id": "bBDa6txwkJaG"
      }
    },
    {
      "cell_type": "code",
      "source": [
        "######################################################################\n",
        "#\n",
        "# Function to solve a banded system of linear equations using\n",
        "# Gaussian elimination and backsubstitution\n",
        "#\n",
        "# x = banded(A,v,up,down)\n",
        "#\n",
        "# This function returns the vector solution x of the equation A.x = v,\n",
        "# where v is an array representing a vector of N elements, either real\n",
        "# or complex, and A is an N by N banded matrix with \"up\" nonzero\n",
        "# elements above the diagonal and \"down\" nonzero elements below the\n",
        "# diagonal.  The matrix is specified as a two-dimensional array of\n",
        "# (1+up+down) by N elements with the diagonals of the original matrix\n",
        "# along its rows, thus:\n",
        "#\n",
        "#   (  -   -  A02 A13 A24 ...\n",
        "#   (  -  A01 A12 A23 A34 ...\n",
        "#   ( A00 A11 A22 A33 A44 ...\n",
        "#   ( A10 A21 A32 A43 A54 ...\n",
        "#   ( A20 A31 A42 A53 A64 ...\n",
        "#\n",
        "# Elements represented by dashes are ignored -- it doesn't matter what\n",
        "# these elements contain.  The size of the system is taken from the\n",
        "# size of the vector v.  If the matrix A is larger than NxN then the\n",
        "# extras are ignored.  If it is smaller, the program will produce an\n",
        "# error.\n",
        "#\n",
        "# The function is compatible with version 2 and version 3 of Python.\n",
        "#\n",
        "# Written by Mark Newman <mejn@umich.edu>, September 4, 2011\n",
        "# You may use, share, or modify this file freely\n",
        "#\n",
        "######################################################################\n",
        "\n",
        "from numpy import copy\n",
        "\n",
        "def banded(Aa,va,up,down):\n",
        "\n",
        "    # Copy the inputs and determine the size of the system\n",
        "    A = copy(Aa)\n",
        "    v = copy(va)\n",
        "    N = len(v)\n",
        "\n",
        "    # Gaussian elimination\n",
        "    for m in range(N):\n",
        "\n",
        "        # Normalization factor\n",
        "        div = A[up,m]\n",
        "\n",
        "        # Update the vector first\n",
        "        v[m] /= div\n",
        "        for k in range(1,down+1):\n",
        "            if m+k<N:\n",
        "                v[m+k] -= A[up+k,m]*v[m]\n",
        "\n",
        "        # Now normalize the pivot row of A and subtract from lower ones\n",
        "        for i in range(up):\n",
        "            j = m + up - i\n",
        "            if j<N:\n",
        "                A[i,j] /= div\n",
        "                for k in range(1,down+1):\n",
        "                    A[i+k,j] -= A[up+k,m]*A[i,j]\n",
        "\n",
        "    # Backsubstitution\n",
        "    for m in range(N-2,-1,-1):\n",
        "        for i in range(up):\n",
        "            j = m + up - i\n",
        "            if j<N:\n",
        "                v[m] -= A[i,j]*v[j]\n",
        "\n",
        "    return v\n"
      ],
      "metadata": {
        "id": "zMfVik3ckCV9"
      },
      "execution_count": 4,
      "outputs": []
    },
    {
      "cell_type": "code",
      "metadata": {
        "id": "hMqWOsbIMoUh",
        "colab": {
          "base_uri": "https://localhost:8080/",
          "height": 573
        },
        "outputId": "16478fe9-0671-4b6d-f1e7-505a0546d43b"
      },
      "source": [
        "import numpy as np\n",
        "from numpy import exp, sqrt, linspace, empty, zeros, arange\n",
        "import matplotlib.pyplot as plt\n",
        "from matplotlib import pyplot as plt\n",
        "from matplotlib import animation\n",
        "from matplotlib.animation import FuncAnimation\n",
        "\n",
        "# Define constants.\n",
        "N = 1000\n",
        "M = 9.109e-31\n",
        "L = 1e-8\n",
        "a = L/N\n",
        "x0 = L/2\n",
        "sigma = 1e-10\n",
        "kappa = 5e10\n",
        "hbar = 1.0546e-34\n",
        "h = 1e-18\n",
        "# Initialize wavefunction.\n",
        "def psi0(x):\n",
        "  return exp(-(x-x0)**2/(2*(sigma**2))) * exp(1j*kappa*x)\n",
        "\n",
        "# Define matrix elements.\n",
        "a1 = 1 + (h*1j*(hbar/(2*M*(a**2))))\n",
        "a2 = (-h*1j*(hbar/(4*M*(a**2))))\n",
        "b1 = 1 - (h*1j*(hbar/(2*M*(a**2))))\n",
        "b2 = (h*1j*(hbar/(4*M*(a**2))))\n",
        "\n",
        "# Define x limits.\n",
        "x = linspace(0, L, N+1)\n",
        "\n",
        "psi = zeros(N+1, complex)\n",
        "psi = psi0(x)\n",
        "psi[[0,N]] = 0\n",
        "\n",
        "psi1 = zeros(N+1, complex)\n",
        "psi1 = psi0(x)\n",
        "psi1[[0,N]] = 0\n",
        "\n",
        "# Define matrices.\n",
        "A = zeros((3,N),complex)\n",
        "A[0, :N] = a2\n",
        "A[1, :N] = a1\n",
        "A[2, :N] = a2\n",
        "\n",
        "v0 = zeros(N+1,complex)\n",
        "\n",
        "v1 = b1*psi[1:N] + b2*(psi[2:N+1] + psi[0:N-1])\n",
        "psi1[1:N] = banded(A,v1,1,1)\n",
        "\n",
        "for i in range(500):\n",
        "  v0 = b1*psi[1:N] + b2*(psi[2:N+1] + psi[0:N-1])\n",
        "  psi[1:N] = banded(A,v0,1,1)\n",
        "\n",
        "fig1,ax1 = plt.subplots()\n",
        "ax1.plot(x,psi1.real)\n",
        "ax1.set(facecolor='black')\n",
        "ax1.set_title(\"No Time Steps\")\n",
        "ax1.set_xlabel('X')\n",
        "ax1.set_ylabel('$\\psi$')\n",
        "ax1.grid(color='gray')\n",
        "\n",
        "fig,ax2 = plt.subplots()\n",
        "ax2.plot(x,psi.real)\n",
        "ax2.set(facecolor='black')\n",
        "ax2.set_title(\"500 Time Steps\")\n",
        "ax2.set_xlabel('X')\n",
        "ax2.set_ylabel('$\\psi$')\n",
        "ax2.grid(color='gray')\n"
      ],
      "execution_count": 5,
      "outputs": [
        {
          "output_type": "display_data",
          "data": {
            "text/plain": [
              "<Figure size 432x288 with 1 Axes>"
            ],
            "image/png": "[encoded data removed]"
          },
          "metadata": {
            "needs_background": "light"
          }
        },
        {
          "output_type": "display_data",
          "data": {
            "text/plain": [
              "<Figure size 432x288 with 1 Axes>"
            ],
            "image/png": "[encoded data removed]"
          },
          "metadata": {
            "needs_background": "light"
          }
        }
      ]
    },
    {
      "cell_type": "code",
      "source": [
        "fig, ax = plt.subplots(figsize=(10,6))\n",
        "\n",
        "def init():\n",
        "    ax.clear()\n",
        "\n",
        "def update(frame):\n",
        "    ax.clear()\n",
        "\n",
        "    \n",
        "    psi = zeros(N+1,complex)\n",
        "    psi = psi0(x)\n",
        "    psi[[0,N]] = 0\n",
        "\n",
        "    A = zeros((3,N),complex)\n",
        "    A[0,:N] = a2\n",
        "    A[1,:N] = a1\n",
        "    A[2,:N] = a2\n",
        "\n",
        "    v0 = zeros(N+1,complex)\n",
        "\n",
        "    for i in range(frame):\n",
        "        v0 = b1*psi[1:N] + b2*(psi[2:N+1] + psi[0:N-1])\n",
        "        psi[1:N] = banded(A,v0,1,1)  \n",
        "    \n",
        "    ax.plot(x,psi.real)\n",
        "    ax.set(facecolor='black',ylim=(-1,1))\n",
        "    ax.set_title(\"Wavefunction\")\n",
        "    ax.set_xlabel('X')\n",
        "    ax.set_ylabel('$\\psi$')\n",
        "    ax.grid(color='gray')\n",
        "\n",
        "    \n",
        "anim = FuncAnimation(fig, update, frames = arange(0,3000, 10), init_func = init)\n",
        "\n",
        "writergif = animation.PillowWriter(fps=10)\n",
        "anim.save('wavefunction.gif',writer=writergif)"
      ],
      "metadata": {
        "colab": {
          "base_uri": "https://localhost:8080/",
          "height": 721
        },
        "id": "Z1qCxX-6NDip",
        "outputId": "31c2b1ef-96f0-41a0-dcdf-b2bd46e5c92f"
      },
      "execution_count": 3,
      "outputs": [
        {
          "output_type": "error",
          "ename": "KeyboardInterrupt",
          "evalue": "ignored",
          "traceback": [
            "\u001b[0;31m---------------------------------------------------------------------------\u001b[0m",
            "\u001b[0;31mKeyboardInterrupt\u001b[0m                         Traceback (most recent call last)",
            "\u001b[0;32m<ipython-input-3-72202244f3ed>\u001b[0m in \u001b[0;36m<module>\u001b[0;34m\u001b[0m\n\u001b[1;32m     34\u001b[0m \u001b[0;34m\u001b[0m\u001b[0m\n\u001b[1;32m     35\u001b[0m \u001b[0mwritergif\u001b[0m \u001b[0;34m=\u001b[0m \u001b[0manimation\u001b[0m\u001b[0;34m.\u001b[0m\u001b[0mPillowWriter\u001b[0m\u001b[0;34m(\u001b[0m\u001b[0mfps\u001b[0m\u001b[0;34m=\u001b[0m\u001b[0;36m10\u001b[0m\u001b[0;34m)\u001b[0m\u001b[0;34m\u001b[0m\u001b[0;34m\u001b[0m\u001b[0m\n\u001b[0;32m---> 36\u001b[0;31m \u001b[0manim\u001b[0m\u001b[0;34m.\u001b[0m\u001b[0msave\u001b[0m\u001b[0;34m(\u001b[0m\u001b[0;34m'wavefunction.gif'\u001b[0m\u001b[0;34m,\u001b[0m\u001b[0mwriter\u001b[0m\u001b[0;34m=\u001b[0m\u001b[0mwritergif\u001b[0m\u001b[0;34m)\u001b[0m\u001b[0;34m\u001b[0m\u001b[0;34m\u001b[0m\u001b[0m\n\u001b[0m",
            "\u001b[0;32m/usr/local/lib/python3.8/dist-packages/matplotlib/animation.py\u001b[0m in \u001b[0;36msave\u001b[0;34m(self, filename, writer, fps, dpi, codec, bitrate, extra_args, metadata, extra_anim, savefig_kwargs, progress_callback)\u001b[0m\n\u001b[1;32m   1146\u001b[0m                     \u001b[0;32mfor\u001b[0m \u001b[0manim\u001b[0m\u001b[0;34m,\u001b[0m \u001b[0md\u001b[0m \u001b[0;32min\u001b[0m \u001b[0mzip\u001b[0m\u001b[0;34m(\u001b[0m\u001b[0mall_anim\u001b[0m\u001b[0;34m,\u001b[0m \u001b[0mdata\u001b[0m\u001b[0;34m)\u001b[0m\u001b[0;34m:\u001b[0m\u001b[0;34m\u001b[0m\u001b[0;34m\u001b[0m\u001b[0m\n\u001b[1;32m   1147\u001b[0m                         \u001b[0;31m# TODO: See if turning off blit is really necessary\u001b[0m\u001b[0;34m\u001b[0m\u001b[0;34m\u001b[0m\u001b[0;34m\u001b[0m\u001b[0m\n\u001b[0;32m-> 1148\u001b[0;31m                         \u001b[0manim\u001b[0m\u001b[0;34m.\u001b[0m\u001b[0m_draw_next_frame\u001b[0m\u001b[0;34m(\u001b[0m\u001b[0md\u001b[0m\u001b[0;34m,\u001b[0m \u001b[0mblit\u001b[0m\u001b[0;34m=\u001b[0m\u001b[0;32mFalse\u001b[0m\u001b[0;34m)\u001b[0m\u001b[0;34m\u001b[0m\u001b[0;34m\u001b[0m\u001b[0m\n\u001b[0m\u001b[1;32m   1149\u001b[0m                         \u001b[0;32mif\u001b[0m \u001b[0mprogress_callback\u001b[0m \u001b[0;32mis\u001b[0m \u001b[0;32mnot\u001b[0m \u001b[0;32mNone\u001b[0m\u001b[0;34m:\u001b[0m\u001b[0;34m\u001b[0m\u001b[0;34m\u001b[0m\u001b[0m\n\u001b[1;32m   1150\u001b[0m                             \u001b[0mprogress_callback\u001b[0m\u001b[0;34m(\u001b[0m\u001b[0mframe_number\u001b[0m\u001b[0;34m,\u001b[0m \u001b[0mtotal_frames\u001b[0m\u001b[0;34m)\u001b[0m\u001b[0;34m\u001b[0m\u001b[0;34m\u001b[0m\u001b[0m\n",
            "\u001b[0;32m/usr/local/lib/python3.8/dist-packages/matplotlib/animation.py\u001b[0m in \u001b[0;36m_draw_next_frame\u001b[0;34m(self, framedata, blit)\u001b[0m\n\u001b[1;32m   1186\u001b[0m         \u001b[0;31m# post- draw, as well as the drawing of the frame itself.\u001b[0m\u001b[0;34m\u001b[0m\u001b[0;34m\u001b[0m\u001b[0;34m\u001b[0m\u001b[0m\n\u001b[1;32m   1187\u001b[0m         \u001b[0mself\u001b[0m\u001b[0;34m.\u001b[0m\u001b[0m_pre_draw\u001b[0m\u001b[0;34m(\u001b[0m\u001b[0mframedata\u001b[0m\u001b[0;34m,\u001b[0m \u001b[0mblit\u001b[0m\u001b[0;34m)\u001b[0m\u001b[0;34m\u001b[0m\u001b[0;34m\u001b[0m\u001b[0m\n\u001b[0;32m-> 1188\u001b[0;31m         \u001b[0mself\u001b[0m\u001b[0;34m.\u001b[0m\u001b[0m_draw_frame\u001b[0m\u001b[0;34m(\u001b[0m\u001b[0mframedata\u001b[0m\u001b[0;34m)\u001b[0m\u001b[0;34m\u001b[0m\u001b[0;34m\u001b[0m\u001b[0m\n\u001b[0m\u001b[1;32m   1189\u001b[0m         \u001b[0mself\u001b[0m\u001b[0;34m.\u001b[0m\u001b[0m_post_draw\u001b[0m\u001b[0;34m(\u001b[0m\u001b[0mframedata\u001b[0m\u001b[0;34m,\u001b[0m \u001b[0mblit\u001b[0m\u001b[0;34m)\u001b[0m\u001b[0;34m\u001b[0m\u001b[0;34m\u001b[0m\u001b[0m\n\u001b[1;32m   1190\u001b[0m \u001b[0;34m\u001b[0m\u001b[0m\n",
            "\u001b[0;32m/usr/local/lib/python3.8/dist-packages/matplotlib/animation.py\u001b[0m in \u001b[0;36m_draw_frame\u001b[0;34m(self, framedata)\u001b[0m\n\u001b[1;32m   1764\u001b[0m         \u001b[0;31m# Call the func with framedata and args. If blitting is desired,\u001b[0m\u001b[0;34m\u001b[0m\u001b[0;34m\u001b[0m\u001b[0;34m\u001b[0m\u001b[0m\n\u001b[1;32m   1765\u001b[0m         \u001b[0;31m# func needs to return a sequence of any artists that were modified.\u001b[0m\u001b[0;34m\u001b[0m\u001b[0;34m\u001b[0m\u001b[0;34m\u001b[0m\u001b[0m\n\u001b[0;32m-> 1766\u001b[0;31m         \u001b[0mself\u001b[0m\u001b[0;34m.\u001b[0m\u001b[0m_drawn_artists\u001b[0m \u001b[0;34m=\u001b[0m \u001b[0mself\u001b[0m\u001b[0;34m.\u001b[0m\u001b[0m_func\u001b[0m\u001b[0;34m(\u001b[0m\u001b[0mframedata\u001b[0m\u001b[0;34m,\u001b[0m \u001b[0;34m*\u001b[0m\u001b[0mself\u001b[0m\u001b[0;34m.\u001b[0m\u001b[0m_args\u001b[0m\u001b[0;34m)\u001b[0m\u001b[0;34m\u001b[0m\u001b[0;34m\u001b[0m\u001b[0m\n\u001b[0m\u001b[1;32m   1767\u001b[0m         \u001b[0;32mif\u001b[0m \u001b[0mself\u001b[0m\u001b[0;34m.\u001b[0m\u001b[0m_blit\u001b[0m\u001b[0;34m:\u001b[0m\u001b[0;34m\u001b[0m\u001b[0;34m\u001b[0m\u001b[0m\n\u001b[1;32m   1768\u001b[0m             \u001b[0;32mif\u001b[0m \u001b[0mself\u001b[0m\u001b[0;34m.\u001b[0m\u001b[0m_drawn_artists\u001b[0m \u001b[0;32mis\u001b[0m \u001b[0;32mNone\u001b[0m\u001b[0;34m:\u001b[0m\u001b[0;34m\u001b[0m\u001b[0;34m\u001b[0m\u001b[0m\n",
            "\u001b[0;32m<ipython-input-3-72202244f3ed>\u001b[0m in \u001b[0;36mupdate\u001b[0;34m(frame)\u001b[0m\n\u001b[1;32m     21\u001b[0m     \u001b[0;32mfor\u001b[0m \u001b[0mi\u001b[0m \u001b[0;32min\u001b[0m \u001b[0mrange\u001b[0m\u001b[0;34m(\u001b[0m\u001b[0mframe\u001b[0m\u001b[0;34m)\u001b[0m\u001b[0;34m:\u001b[0m\u001b[0;34m\u001b[0m\u001b[0;34m\u001b[0m\u001b[0m\n\u001b[1;32m     22\u001b[0m         \u001b[0mv0\u001b[0m \u001b[0;34m=\u001b[0m \u001b[0mb1\u001b[0m\u001b[0;34m*\u001b[0m\u001b[0mpsi\u001b[0m\u001b[0;34m[\u001b[0m\u001b[0;36m1\u001b[0m\u001b[0;34m:\u001b[0m\u001b[0mN\u001b[0m\u001b[0;34m]\u001b[0m \u001b[0;34m+\u001b[0m \u001b[0mb2\u001b[0m\u001b[0;34m*\u001b[0m\u001b[0;34m(\u001b[0m\u001b[0mpsi\u001b[0m\u001b[0;34m[\u001b[0m\u001b[0;36m2\u001b[0m\u001b[0;34m:\u001b[0m\u001b[0mN\u001b[0m\u001b[0;34m+\u001b[0m\u001b[0;36m1\u001b[0m\u001b[0;34m]\u001b[0m \u001b[0;34m+\u001b[0m \u001b[0mpsi\u001b[0m\u001b[0;34m[\u001b[0m\u001b[0;36m0\u001b[0m\u001b[0;34m:\u001b[0m\u001b[0mN\u001b[0m\u001b[0;34m-\u001b[0m\u001b[0;36m1\u001b[0m\u001b[0;34m]\u001b[0m\u001b[0;34m)\u001b[0m\u001b[0;34m\u001b[0m\u001b[0;34m\u001b[0m\u001b[0m\n\u001b[0;32m---> 23\u001b[0;31m         \u001b[0mpsi\u001b[0m\u001b[0;34m[\u001b[0m\u001b[0;36m1\u001b[0m\u001b[0;34m:\u001b[0m\u001b[0mN\u001b[0m\u001b[0;34m]\u001b[0m \u001b[0;34m=\u001b[0m \u001b[0mbanded\u001b[0m\u001b[0;34m(\u001b[0m\u001b[0mA\u001b[0m\u001b[0;34m,\u001b[0m\u001b[0mv0\u001b[0m\u001b[0;34m,\u001b[0m\u001b[0;36m1\u001b[0m\u001b[0;34m,\u001b[0m\u001b[0;36m1\u001b[0m\u001b[0;34m)\u001b[0m\u001b[0;34m\u001b[0m\u001b[0;34m\u001b[0m\u001b[0m\n\u001b[0m\u001b[1;32m     24\u001b[0m \u001b[0;34m\u001b[0m\u001b[0m\n\u001b[1;32m     25\u001b[0m     \u001b[0max\u001b[0m\u001b[0;34m.\u001b[0m\u001b[0mplot\u001b[0m\u001b[0;34m(\u001b[0m\u001b[0mx\u001b[0m\u001b[0;34m,\u001b[0m\u001b[0mpsi\u001b[0m\u001b[0;34m.\u001b[0m\u001b[0mreal\u001b[0m\u001b[0;34m)\u001b[0m\u001b[0;34m\u001b[0m\u001b[0;34m\u001b[0m\u001b[0m\n",
            "\u001b[0;32m<ipython-input-1-bad423df55f0>\u001b[0m in \u001b[0;36mbanded\u001b[0;34m(Aa, va, up, down)\u001b[0m\n\u001b[1;32m     58\u001b[0m             \u001b[0mj\u001b[0m \u001b[0;34m=\u001b[0m \u001b[0mm\u001b[0m \u001b[0;34m+\u001b[0m \u001b[0mup\u001b[0m \u001b[0;34m-\u001b[0m \u001b[0mi\u001b[0m\u001b[0;34m\u001b[0m\u001b[0;34m\u001b[0m\u001b[0m\n\u001b[1;32m     59\u001b[0m             \u001b[0;32mif\u001b[0m \u001b[0mj\u001b[0m\u001b[0;34m<\u001b[0m\u001b[0mN\u001b[0m\u001b[0;34m:\u001b[0m\u001b[0;34m\u001b[0m\u001b[0;34m\u001b[0m\u001b[0m\n\u001b[0;32m---> 60\u001b[0;31m                 \u001b[0mA\u001b[0m\u001b[0;34m[\u001b[0m\u001b[0mi\u001b[0m\u001b[0;34m,\u001b[0m\u001b[0mj\u001b[0m\u001b[0;34m]\u001b[0m \u001b[0;34m/=\u001b[0m \u001b[0mdiv\u001b[0m\u001b[0;34m\u001b[0m\u001b[0;34m\u001b[0m\u001b[0m\n\u001b[0m\u001b[1;32m     61\u001b[0m                 \u001b[0;32mfor\u001b[0m \u001b[0mk\u001b[0m \u001b[0;32min\u001b[0m \u001b[0mrange\u001b[0m\u001b[0;34m(\u001b[0m\u001b[0;36m1\u001b[0m\u001b[0;34m,\u001b[0m\u001b[0mdown\u001b[0m\u001b[0;34m+\u001b[0m\u001b[0;36m1\u001b[0m\u001b[0;34m)\u001b[0m\u001b[0;34m:\u001b[0m\u001b[0;34m\u001b[0m\u001b[0;34m\u001b[0m\u001b[0m\n\u001b[1;32m     62\u001b[0m                     \u001b[0mA\u001b[0m\u001b[0;34m[\u001b[0m\u001b[0mi\u001b[0m\u001b[0;34m+\u001b[0m\u001b[0mk\u001b[0m\u001b[0;34m,\u001b[0m\u001b[0mj\u001b[0m\u001b[0;34m]\u001b[0m \u001b[0;34m-=\u001b[0m \u001b[0mA\u001b[0m\u001b[0;34m[\u001b[0m\u001b[0mup\u001b[0m\u001b[0;34m+\u001b[0m\u001b[0mk\u001b[0m\u001b[0;34m,\u001b[0m\u001b[0mm\u001b[0m\u001b[0;34m]\u001b[0m\u001b[0;34m*\u001b[0m\u001b[0mA\u001b[0m\u001b[0;34m[\u001b[0m\u001b[0mi\u001b[0m\u001b[0;34m,\u001b[0m\u001b[0mj\u001b[0m\u001b[0;34m]\u001b[0m\u001b[0;34m\u001b[0m\u001b[0;34m\u001b[0m\u001b[0m\n",
            "\u001b[0;31mKeyboardInterrupt\u001b[0m: "
          ]
        },
        {
          "output_type": "display_data",
          "data": {
            "text/plain": [
              "<Figure size 720x432 with 1 Axes>"
            ],
            "image/png": "[encoded data removed]"
          },
          "metadata": {
            "needs_background": "light"
          }
        }
      ]
    },
    {
      "cell_type": "markdown",
      "metadata": {
        "id": "kBX9EyMLOnXj"
      },
      "source": [
        "### PROBLEM 2 (50 pts.; 50/50 for code & discussion)\n",
        "\n",
        "**The Schrodinger equation and the spectral method**\n",
        "\n",
        "_Refer to Exercise 9.9 in the Newman text._ In this problem, you will use the spectral method to solve the time-dependent Schodinger equation for the same system as in Problem 1, a single particle in one dimension in a box of length $L$ with impenetrable walls. \n",
        "\n",
        "To perform the fast transforms needed for this problem, you can use the scipy $\\tt fftpack$ package's discrete sine transform $\\tt dst$ ([documentation](https://docs.scipy.org/doc/scipy/reference/generated/scipy.fftpack.dst.html)) and inverse discrete sine transform $\\tt idst$ ([documentation](https://docs.scipy.org/doc/scipy/reference/generated/scipy.fftpack.idst.html)). Alternatively, you can use the corresponding functions in the $\\tt dcst$ package in Appendix E of the Newman text. \n",
        "\n",
        "1. Calculate the values of the coefficients $b_k$ which for convenience can be broken down into their real and imaginary parts as $b_k = \\alpha_k + i \\eta_k$· Divide the box into $N = 1000$ slices and create two arrays containing the real and imaginary parts of $\\psi(x_n,0)$ at each grid point. Perform discrete sine transforms on each array separately and hence calculate the values of the $\\alpha_k$ and $\\eta_k$ for all $k=1$...$N-1$. *(15 pts.)*\n",
        "\n",
        "2. Putting $b_k = \\alpha_k +i \\eta_k$ in the solution above and taking the real part we get $ {\\rm Re}\\ \\psi(x_n, t) $ equals\n",
        "$$\\frac{1}{N} \\sum_{k=1}^{N-1} \\left[\\alpha_k \\cos\\left(\\frac{\\pi^2\\hbar k^2}{2ML^2}t\\right) - \\eta_k \\sin\\left(\\frac{\\pi^2\\hbar k^2}{2ML^2}t\\right)\\right]\\sin\\left(\\frac{\\pi kn}{N}\\right)$$\n",
        "for the real part of the wavefunction. This is an inverse sine transform with coefficients equal to the quantities in the square brackets. \n",
        "\n",
        "   Calculate the real part of the wavefunction $\\psi(x,t)$ at an arbitrary time $t$ using this formula and the inverse discrete sine transform function. *(10 pts.)* \n",
        "   \n",
        "3. Test your program by making a graph of the wavefunction at time $t = 10^{-16}$ s. *(10 pts.)*\n",
        "\n",
        "4. Make an animation of the wavefunction over time, similar to that described in part (4) of Problem 1 above. A suitable time interval for each frame of the animation is about $10^{-18}$ s. Run your animation for a while and describe what you see. Write a few sentences explaining in physics terms what is going on in the system. *(15 pts.)*\n"
      ]
    },
    {
      "cell_type": "markdown",
      "source": [
        "First, we import the dcst package in the Newman text."
      ],
      "metadata": {
        "id": "J9POame7b8WQ"
      }
    },
    {
      "cell_type": "code",
      "metadata": {
        "id": "R0g43FSaZdBz"
      },
      "source": [
        "######################################################################\n",
        "#\n",
        "# Functions to perform fast discrete cosine and sine transforms and\n",
        "# their inverses in one and two dimensions.  These functions work by\n",
        "# wrapping the DFT function from numpy, rather than explicitly\n",
        "# performing the cosine and sine transforms themselves.  The sine\n",
        "# transforms take arrays whose first element is zero and return arrays\n",
        "# whose first element is also zero.  This differs from some other\n",
        "# implementations, which drop the first element, since it is always\n",
        "# zero.\n",
        "#\n",
        "#   dst(y): Type-I discrete sine transform (DST) of real data y\n",
        "#   idst(a): Type-I inverse DST of a\n",
        "#\n",
        "######################################################################\n",
        "\n",
        "\n",
        "from numpy import empty,arange,exp,real,imag,pi\n",
        "from numpy.fft import rfft,irfft\n",
        "\n",
        "\n",
        "######################################################################\n",
        "# 1D DST Type-I\n",
        "\n",
        "def dst(y):\n",
        "    N = len(y)\n",
        "    y2 = empty(2*N,float)\n",
        "    y2[0] = y2[N] = 0.0\n",
        "    y2[1:N] = y[1:]\n",
        "    y2[:N:-1] = -y[1:]\n",
        "    a = -imag(rfft(y2))[:N]\n",
        "    a[0] = 0.0\n",
        "\n",
        "    return a\n",
        "\n",
        "\n",
        "######################################################################\n",
        "# 1D inverse DST Type-I\n",
        "\n",
        "def idst(a):\n",
        "    N = len(a)\n",
        "    c = empty(N+1,complex)\n",
        "    c[0] = c[N] = 0.0\n",
        "    c[1:N] = -1j*a[1:]\n",
        "    y = irfft(c)[:N]\n",
        "    y[0] = 0.0\n",
        "\n",
        "    return y"
      ],
      "execution_count": 6,
      "outputs": []
    },
    {
      "cell_type": "markdown",
      "source": [
        "Now we can proceed with solving for $b_k$. The equation for energy $E_k$ is given by:\n",
        "\n",
        "$$E_k = \\frac{\\pi^2\\hbar^2k^2}{2ML^2}$$"
      ],
      "metadata": {
        "id": "NMIrGd6ccB-d"
      }
    },
    {
      "cell_type": "code",
      "source": [
        "import numpy as np\n",
        "import matplotlib.pyplot as plt\n",
        "from matplotlib import animation\n",
        "from matplotlib.animation import FuncAnimation\n",
        "from numpy import exp, empty, linspace, real, imag, cos, sin, pi, where, arange, zeros\n",
        "\n",
        "\n",
        "# Define constants.\n",
        "N = 1000\n",
        "M = 9.109e-31\n",
        "L = 1e-8\n",
        "a = L/N\n",
        "x0 = L/2\n",
        "sigma = 1e-10\n",
        "kappa = 5e10\n",
        "hbar = 1.0546e-34\n",
        "\n",
        "# Define x limits.\n",
        "x = linspace(0, L, N+1)\n",
        "\n",
        "# Initialize wavefunction.\n",
        "def psi0(x):\n",
        "  return exp(-(x-x0)**2/(2*(sigma**2))) * exp(1j*kappa*x)\n",
        "\n",
        "# Define energy equation.\n",
        "def E(k):\n",
        "  return (pi*hbar*k)**2 / (2*M*(L**2))\n",
        "\n",
        "psi = zeros(N+1, complex)\n",
        "psi = psi0(x)\n",
        "psi[[0,N]] = 0\n",
        "\n",
        "ak = dst(psi.real)\n",
        "nk = dst(psi.imag)\n",
        "\n",
        "def sol(t):\n",
        "  psi_f = []\n",
        "  for i in x:\n",
        "    s = 0\n",
        "    n = where(x==i)\n",
        "    for k in range(1,N):\n",
        "      s += (ak[k]*cos(E(k)*t/hbar)-nk[k]*sin(E(k)*t/hbar))*(sin(pi*k*n[0]/N)) / N\n",
        "      psi_f.append(s)\n",
        "  return psi_f\n",
        "\n",
        "t = 1e-16\n",
        "\n",
        "fig,ax = plt.subplots()\n",
        "ax.plot(sol(t))\n",
        "ax.set(facecolor='black')\n",
        "ax.set_title(r\"Wave function at $t = 10^{-16}$\")\n",
        "ax.set_xlabel('X')\n",
        "ax.set_ylabel('$\\psi$')\n",
        "ax.grid(color='gray')\n"
      ],
      "metadata": {
        "id": "lNPrkxogcAPi",
        "colab": {
          "base_uri": "https://localhost:8080/",
          "height": 299
        },
        "outputId": "ecd8ee5e-b9fe-4eee-9630-226e1f8bf765"
      },
      "execution_count": 7,
      "outputs": [
        {
          "output_type": "display_data",
          "data": {
            "text/plain": [
              "<Figure size 432x288 with 1 Axes>"
            ],
            "image/png": "[encoded data removed]"
          },
          "metadata": {
            "needs_background": "light"
          }
        }
      ]
    },
    {
      "cell_type": "code",
      "source": [
        "fig, ax = plt.subplots(figsize=(10,6))\n",
        "\n",
        "def init():\n",
        "    ax.clear()\n",
        "\n",
        "def update(frame):\n",
        "    ax.clear()\n",
        "    \n",
        "    ax.plot(sol(frame))\n",
        "    ax.set(facecolor='black',ylim=(-1,1))\n",
        "    ax.set_title(\"Wavefunction\")\n",
        "    ax.set_xlabel('X')\n",
        "    ax.set_ylabel('$\\psi$')\n",
        "    ax.grid(color='gray')\n",
        "\n",
        "    \n",
        "anim = FuncAnimation(fig, update, frames = arange(0, 1e-16, 1e-18), init_func = init)\n",
        "\n",
        "writergif = animation.PillowWriter(fps=10)\n",
        "anim.save('wavefunction2.gif',writer=writergif)"
      ],
      "metadata": {
        "id": "sPXKpn4ZJ-pa"
      },
      "execution_count": null,
      "outputs": []
    }
  ]
}